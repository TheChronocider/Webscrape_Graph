{
 "cells": [
  {
   "cell_type": "code",
   "execution_count": 26,
   "metadata": {},
   "outputs": [],
   "source": [
    "import datetime\n",
    "import os\n",
    "import csv\n",
    "import requests"
   ]
  },
  {
   "cell_type": "code",
   "execution_count": 32,
   "metadata": {},
   "outputs": [],
   "source": [
    "def get_latest(fFname):    \n",
    "    if os.path.exists(fFname):\n",
    "        with open(fFname) as fd:\n",
    "            # Read CSV\n",
    "            reader = csv.reader(fd, delimiter =',')\n",
    "            #skip header\n",
    "            next(reader)\n",
    "\n",
    "            #Get the latest input\n",
    "            latest = -1\n",
    "\n",
    "            for element in reader:\n",
    "                if float(element[0]) > latest:\n",
    "                    latest = float(element[0])\n",
    "\n",
    "            return latest\n",
    "        \n",
    "    # Create file if not existing\n",
    "    with open(fFname, 'w', newline='') as fd:\n",
    "        writer = csv.writer(fd)\n",
    "        # Write Headers\n",
    "        writer.writerow([\"Time Stamp\", \"Date\", \"Price\"])\n",
    "    return -1"
   ]
  },
  {
   "cell_type": "code",
   "execution_count": 33,
   "metadata": {},
   "outputs": [],
   "source": [
    "# Location of JSON containing petrol price values for canberra\n",
    "url = 'https://www.aip.com.au/aip-api-request?api-path=public/api&call=retailNswUlp&location=Canberra'\n",
    "\n",
    "# File to save\n",
    "file = 'historic_fuel_data.csv'"
   ]
  },
  {
   "cell_type": "code",
   "execution_count": 34,
   "metadata": {},
   "outputs": [],
   "source": [
    "# Grabbing data as JSON and the specific points: [\"series\"][0]['data']\n",
    "data = requests.get(url).json()[\"series\"][0]['data']"
   ]
  },
  {
   "cell_type": "code",
   "execution_count": 35,
   "metadata": {},
   "outputs": [],
   "source": [
    "# Grab the latest timestamp\n",
    "latest = get_latest(file)\n",
    "\n",
    "with open(file, 'a', newline='') as fd:\n",
    "    # Create filewriter\n",
    "    writer = csv.writer(fd)\n",
    "    \n",
    "    for point in data:\n",
    "        # Saved timestamps are in milliseconds\n",
    "        timestamp = float(point[0])/1000\n",
    "        \n",
    "        # Continue if we have a new timestamp\n",
    "        if timestamp > latest:\n",
    "            price = float(point[1])\n",
    "            \n",
    "            # Put into array following headers \"timestamp, date, price\"\n",
    "            element = [timestamp, datetime.datetime.fromtimestamp(timestamp).strftime(\"%Y-%m-%d\"), price]\n",
    "            \n",
    "            writer.writerow(element)\n",
    "            "
   ]
  },
  {
   "cell_type": "code",
   "execution_count": null,
   "metadata": {},
   "outputs": [],
   "source": []
  }
 ],
 "metadata": {
  "kernelspec": {
   "display_name": "Python 3",
   "language": "python",
   "name": "python3"
  },
  "language_info": {
   "codemirror_mode": {
    "name": "ipython",
    "version": 3
   },
   "file_extension": ".py",
   "mimetype": "text/x-python",
   "name": "python",
   "nbconvert_exporter": "python",
   "pygments_lexer": "ipython3",
   "version": "3.8.5"
  }
 },
 "nbformat": 4,
 "nbformat_minor": 4
}
