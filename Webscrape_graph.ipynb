{
 "cells": [
  {
   "cell_type": "code",
   "execution_count": 10,
   "metadata": {},
   "outputs": [],
   "source": [
    "import datetime\n",
    "import os\n",
    "import csv\n",
    "import requests"
   ]
  },
  {
   "cell_type": "code",
   "execution_count": 11,
   "metadata": {},
   "outputs": [],
   "source": [
    "def get_latest(fFname):    \n",
    "    if os.path.exists(fFname):\n",
    "        with open(fFname) as fd:\n",
    "            # Read CSV\n",
    "            reader = csv.reader(fd, delimiter =',')\n",
    "            #skip header\n",
    "            next(reader)\n",
    "\n",
    "            #Get the latest input\n",
    "            latest = -1\n",
    "\n",
    "            for element in reader:\n",
    "                if float(element[0]) > latest:\n",
    "                    latest = element[0]\n",
    "\n",
    "            return latest\n",
    "        # Create file\n",
    "        with open(fFname, 'w', newline='') as fd:\n",
    "            writer = csv.writer(fd)\n",
    "            # Write Headers\n",
    "            writer.writerow([\"Time Stamp\", \"Date\", \"Price\"])\n",
    "        return -1"
   ]
  },
  {
   "cell_type": "code",
   "execution_count": 12,
   "metadata": {},
   "outputs": [],
   "source": [
    "# Location of JSON containing petrol price values for canberra\n",
    "url = 'https://www.aip.com.au/aip-api-request?api-path=public/api&call=retailNswUlp&location=Canberra'\n",
    "\n",
    "# File to save\n",
    "file = 'historic_fuel_data.csv'"
   ]
  },
  {
   "cell_type": "code",
   "execution_count": 13,
   "metadata": {},
   "outputs": [],
   "source": [
    "# Grabbing data as JSON and the specific points: [\"series\"][0]['data']\n",
    "data = requests.get(url).json()[\"series\"][0]['data']"
   ]
  },
  {
   "cell_type": "code",
   "execution_count": 25,
   "metadata": {},
   "outputs": [
    {
     "name": "stdout",
     "output_type": "stream",
     "text": [
      "[1569729600.0, '2019-09-29', 147.7857]\n",
      "[1570370400.0, '2019-10-07', 148.9143]\n",
      "[1570971600.0, '2019-10-14', 148.7143]\n",
      "[1571576400.0, '2019-10-21', 148.5571]\n",
      "[1572181200.0, '2019-10-28', 148.3714]\n",
      "[1572786000.0, '2019-11-04', 148.0143]\n",
      "[1573390800.0, '2019-11-11', 147.5857]\n",
      "[1573995600.0, '2019-11-18', 147.5429]\n",
      "[1574600400.0, '2019-11-25', 147.7857]\n",
      "[1575205200.0, '2019-12-02', 147.7]\n",
      "[1575810000.0, '2019-12-09', 147.7]\n",
      "[1576414800.0, '2019-12-16', 147.6714]\n",
      "[1577019600.0, '2019-12-23', 147.6714]\n",
      "[1577624400.0, '2019-12-30', 147.8428]\n",
      "[1578229200.0, '2020-01-06', 147.8571]\n",
      "[1578834000.0, '2020-01-13', 147.5571]\n",
      "[1579438800.0, '2020-01-20', 147.2286]\n",
      "[1580043600.0, '2020-01-27', 146.6286]\n",
      "[1580648400.0, '2020-02-03', 146.3857]\n",
      "[1581253200.0, '2020-02-10', 146.3428]\n",
      "[1581858000.0, '2020-02-17', 145.5429]\n",
      "[1582462800.0, '2020-02-24', 144.8714]\n",
      "[1583067600.0, '2020-03-02', 144.4429]\n",
      "[1583672400.0, '2020-03-09', 143.9714]\n",
      "[1584277200.0, '2020-03-16', 142.9]\n",
      "[1584882000.0, '2020-03-23', 140.2857]\n",
      "[1585486800.0, '2020-03-30', 136.4714]\n",
      "[1586091600.0, '2020-04-05', 133.2286]\n",
      "[1586700000.0, '2020-04-13', 127.1571]\n",
      "[1587304800.0, '2020-04-20', 120.8]\n",
      "[1587909600.0, '2020-04-27', 116.7571]\n",
      "[1588514400.0, '2020-05-04', 109.9714]\n",
      "[1589119200.0, '2020-05-11', 101.2714]\n",
      "[1589724000.0, '2020-05-18', 101.5857]\n",
      "[1590328800.0, '2020-05-25', 105.2286]\n",
      "[1590933600.0, '2020-06-01', 109.2]\n",
      "[1591538400.0, '2020-06-08', 109.7]\n",
      "[1592143200.0, '2020-06-15', 111.3143]\n",
      "[1592748000.0, '2020-06-22', 116.8857]\n",
      "[1593352800.0, '2020-06-29', 118.2571]\n",
      "[1593957600.0, '2020-07-06', 118.4571]\n",
      "[1594562400.0, '2020-07-13', 121.5857]\n",
      "[1595167200.0, '2020-07-20', 122.8571]\n",
      "[1595772000.0, '2020-07-27', 122.8714]\n",
      "[1596376800.0, '2020-08-03', 122.9]\n",
      "[1596981600.0, '2020-08-10', 122.7143]\n",
      "[1597586400.0, '2020-08-17', 122.4571]\n",
      "[1598191200.0, '2020-08-24', 122.1]\n",
      "[1598796000.0, '2020-08-31', 122.1286]\n",
      "[1599400800.0, '2020-09-07', 122.3143]\n",
      "[1600005600.0, '2020-09-14', 122.2143]\n",
      "[1600610400.0, '2020-09-21', 121.9714]\n"
     ]
    }
   ],
   "source": [
    "# Grab the latest timestamp\n",
    "latest = get_latest(file)\n",
    "\n",
    "with open(file, 'a', newline='') as fd:\n",
    "    # Create filewriter\n",
    "    writer = csv.writer(fd)\n",
    "    \n",
    "    for point in data:\n",
    "        # Saved timestamps are in milliseconds\n",
    "        timestamp = float(point[0])/1000\n",
    "        \n",
    "        # Continue if we have a new timestamp\n",
    "        if timestamp > latest:\n",
    "            price = float(point[1])\n",
    "            \n",
    "            # Put into array following headers \"timestamp, date, price\"\n",
    "            element = [timestamp, datetime.datetime.fromtimestamp(timestamp).strftime(\"%Y-%m-%d\"), price]\n",
    "            \n",
    "            writer.writerow(element)\n",
    "            "
   ]
  }
 ],
 "metadata": {
  "kernelspec": {
   "display_name": "Python 3",
   "language": "python",
   "name": "python3"
  },
  "language_info": {
   "codemirror_mode": {
    "name": "ipython",
    "version": 3
   },
   "file_extension": ".py",
   "mimetype": "text/x-python",
   "name": "python",
   "nbconvert_exporter": "python",
   "pygments_lexer": "ipython3",
   "version": "3.8.5"
  }
 },
 "nbformat": 4,
 "nbformat_minor": 4
}
